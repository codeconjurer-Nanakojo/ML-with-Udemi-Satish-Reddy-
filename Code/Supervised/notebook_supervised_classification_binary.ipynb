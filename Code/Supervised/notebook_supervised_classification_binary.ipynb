{
  "cells": [
    {
      "cell_type": "markdown",
      "metadata": {
        "id": "GW2UCarNcTRQ"
      },
      "source": [
        "# **Binary Classification Demo**"
      ]
    },
    {
      "cell_type": "code",
      "execution_count": null,
      "metadata": {
        "id": "PTYhZJX3TuWL"
      },
      "outputs": [],
      "source": [
        "# run this cell if you're using Google Colab\n",
        "try:\n",
        "    import google.colab\n",
        "    IN_COLAB = True\n",
        "except:\n",
        "    IN_COLAB = False\n",
        "\n",
        "if IN_COLAB:\n",
        "  import sys\n",
        "  import os\n",
        "  !git clone https://github.com/satishchandrareddy/WhatisML.git\n",
        "  code_location = \"/content/WhatisML/Code/Supervised\"\n",
        "  sys.path.append(os.path.abspath(code_location))"
      ]
    },
    {
      "cell_type": "markdown",
      "metadata": {
        "id": "Vf7_4erTc3Ty"
      },
      "source": [
        "## **Import Libraries**"
      ]
    },
    {
      "cell_type": "code",
      "execution_count": null,
      "metadata": {
        "id": "nFFqxs1YcU5a"
      },
      "outputs": [],
      "source": [
        "%matplotlib inline\n",
        "import example_classification\n",
        "import matplotlib.pyplot as plt\n",
        "import NeuralNetwork\n",
        "import numpy as np\n",
        "import Optimizer\n",
        "import plot_results"
      ]
    },
    {
      "cell_type": "markdown",
      "metadata": {
        "id": "iFxldA3g16UP"
      },
      "source": [
        "## **Settings to Change**\n",
        "If you would like to experiment, here are settings to change"
      ]
    },
    {
      "cell_type": "code",
      "execution_count": null,
      "metadata": {
        "id": "HLoeLup316UQ"
      },
      "outputs": [],
      "source": [
        "# Things to try:\n",
        "# Change random seed to get different random numbers: seed (integer)\n",
        "# Change number of data samples: nsample\n",
        "# Change data case: try case = \"quadratic\", \"cubic\", \"disk\", \"band\"\n",
        "# Change learning rate for optimization: learning_rate >0\n",
        "# Change number of iterations: niteration\n",
        "seed = 41\n",
        "nsample = 1000\n",
        "case = \"quadratic\"\n",
        "learning_rate = 0.05\n",
        "niteration = 100"
      ]
    },
    {
      "cell_type": "markdown",
      "metadata": {
        "id": "9-OANn8fc_hI"
      },
      "source": [
        "### **1. Set up Data**"
      ]
    },
    {
      "cell_type": "code",
      "execution_count": null,
      "metadata": {
        "id": "caNnkcj_T0QV"
      },
      "outputs": [],
      "source": [
        "np.random.seed(seed)\n",
        "nfeature = 2\n",
        "nclass = 2\n",
        "X,Y = example_classification.example(nfeature,nsample,case,nclass)\n",
        "plot_results.plot_results_data(X,Y,nclass)"
      ]
    },
    {
      "cell_type": "markdown",
      "metadata": {
        "id": "DbYmLsW4dJ_H"
      },
      "source": [
        "### **2. Define Model**"
      ]
    },
    {
      "cell_type": "code",
      "execution_count": null,
      "metadata": {
        "id": "cYHcN6MudNdG"
      },
      "outputs": [],
      "source": [
        "model = NeuralNetwork.NeuralNetwork(nfeature)\n",
        "model.add_layer(11,\"tanh\")\n",
        "model.add_layer(8,\"tanh\")\n",
        "model.add_layer(4,\"tanh\")\n",
        "model.add_layer(1,\"sigmoid\")"
      ]
    },
    {
      "cell_type": "markdown",
      "metadata": {
        "id": "7SQPVvFxdNpp"
      },
      "source": [
        "### **3. Specify Loss Function and Optimization Routine**"
      ]
    },
    {
      "cell_type": "code",
      "execution_count": null,
      "metadata": {
        "id": "sueBFhLZdNwV"
      },
      "outputs": [],
      "source": [
        "optimizer = Optimizer.Adam(learning_rate,0.9,0.999,1e-8)\n",
        "model.compile(\"binarycrossentropy\",optimizer)"
      ]
    },
    {
      "cell_type": "markdown",
      "metadata": {
        "id": "8K-pDRRndN6c"
      },
      "source": [
        "### **4. Learning**"
      ]
    },
    {
      "cell_type": "code",
      "execution_count": null,
      "metadata": {
        "id": "0K4ruTu0dN_l"
      },
      "outputs": [],
      "source": [
        "history = model.fit(X,Y,niteration)"
      ]
    },
    {
      "cell_type": "markdown",
      "metadata": {
        "id": "oU2-1_s6dqY6"
      },
      "source": [
        "### **5. Plot results**"
      ]
    },
    {
      "cell_type": "code",
      "execution_count": null,
      "metadata": {
        "id": "r28oLlpBdqmN"
      },
      "outputs": [],
      "source": [
        "# plot loss\n",
        "plot_results.plot_results_history(history,[\"loss\"])"
      ]
    },
    {
      "cell_type": "code",
      "execution_count": null,
      "metadata": {
        "id": "SU-vuYW3T6XU"
      },
      "outputs": [],
      "source": [
        "# plot heatmap in x0-x1 plane\n",
        "plot_results.plot_results_classification(X,Y,model,nclass)"
      ]
    },
    {
      "cell_type": "code",
      "execution_count": null,
      "metadata": {
        "id": "HjGmwORdT8AT"
      },
      "outputs": [],
      "source": [
        "# training process animation\n",
        "plt.rcParams[\"animation.html\"] = \"jshtml\"\n",
        "ani = plot_results.plot_results_classification_animation(X,Y,model,nclass)\n",
        "plt.close()\n",
        "ani"
      ]
    },
    {
      "cell_type": "code",
      "execution_count": null,
      "metadata": {
        "id": "Env1g96g16US"
      },
      "outputs": [],
      "source": []
    }
  ],
  "metadata": {
    "colab": {
      "name": "driver_supervised_classification_binary.ipynb",
      "provenance": []
    },
    "kernelspec": {
      "display_name": "Python 3",
      "language": "python",
      "name": "python3"
    },
    "language_info": {
      "codemirror_mode": {
        "name": "ipython",
        "version": 3
      },
      "file_extension": ".py",
      "mimetype": "text/x-python",
      "name": "python",
      "nbconvert_exporter": "python",
      "pygments_lexer": "ipython3",
      "version": "3.8.3"
    }
  },
  "nbformat": 4,
  "nbformat_minor": 0
}